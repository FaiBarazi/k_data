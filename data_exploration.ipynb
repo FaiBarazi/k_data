{
 "cells": [
  {
   "cell_type": "markdown",
   "id": "c6c0ea71",
   "metadata": {},
   "source": [
    "# Data exploration\n",
    "This is a quick data exploration exercise"
   ]
  },
  {
   "cell_type": "code",
   "execution_count": 1,
   "id": "8aaf2f1e",
   "metadata": {},
   "outputs": [],
   "source": [
    "import pandas as pd\n",
    "from pathlib import Path"
   ]
  },
  {
   "cell_type": "code",
   "execution_count": 2,
   "id": "6bd25633",
   "metadata": {},
   "outputs": [],
   "source": [
    "# Note: The data csv sample should be saved in the data/ dir\n",
    "data_path = Path('data/sample_mixed.csv')\n",
    "df = pd.read_csv(data_path, delimiter=';')"
   ]
  },
  {
   "cell_type": "code",
   "execution_count": 3,
   "id": "c2503abf",
   "metadata": {},
   "outputs": [
    {
     "data": {
      "text/html": [
       "<div>\n",
       "<style scoped>\n",
       "    .dataframe tbody tr th:only-of-type {\n",
       "        vertical-align: middle;\n",
       "    }\n",
       "\n",
       "    .dataframe tbody tr th {\n",
       "        vertical-align: top;\n",
       "    }\n",
       "\n",
       "    .dataframe thead th {\n",
       "        text-align: right;\n",
       "    }\n",
       "</style>\n",
       "<table border=\"1\" class=\"dataframe\">\n",
       "  <thead>\n",
       "    <tr style=\"text-align: right;\">\n",
       "      <th></th>\n",
       "      <th>vessel_names</th>\n",
       "      <th>volume</th>\n",
       "      <th>product</th>\n",
       "      <th>group</th>\n",
       "      <th>family</th>\n",
       "      <th>start_date</th>\n",
       "      <th>end_date</th>\n",
       "      <th>origin</th>\n",
       "      <th>destination</th>\n",
       "    </tr>\n",
       "  </thead>\n",
       "  <tbody>\n",
       "    <tr>\n",
       "      <th>0</th>\n",
       "      <td>Oriental Sakura</td>\n",
       "      <td>487762</td>\n",
       "      <td>FO</td>\n",
       "      <td>Fuel Oils</td>\n",
       "      <td>DPP</td>\n",
       "      <td>2013-09-25</td>\n",
       "      <td>2013-09-29</td>\n",
       "      <td>Russian Federation</td>\n",
       "      <td>United Kingdom</td>\n",
       "    </tr>\n",
       "    <tr>\n",
       "      <th>1</th>\n",
       "      <td>Scf Yenisei</td>\n",
       "      <td>251535</td>\n",
       "      <td>RFO</td>\n",
       "      <td>Fuel Oils</td>\n",
       "      <td>DPP</td>\n",
       "      <td>2013-10-26</td>\n",
       "      <td>2013-10-30</td>\n",
       "      <td>Sweden</td>\n",
       "      <td>Sweden</td>\n",
       "    </tr>\n",
       "    <tr>\n",
       "      <th>2</th>\n",
       "      <td>Iron Point</td>\n",
       "      <td>108807</td>\n",
       "      <td>Gasoline</td>\n",
       "      <td>Gasoline/Naphtha</td>\n",
       "      <td>Light Ends</td>\n",
       "      <td>2015-05-21</td>\n",
       "      <td>2015-06-09</td>\n",
       "      <td>Belgium</td>\n",
       "      <td>Togo</td>\n",
       "    </tr>\n",
       "    <tr>\n",
       "      <th>3</th>\n",
       "      <td>Evinos</td>\n",
       "      <td>1253729</td>\n",
       "      <td>Clean Condensate</td>\n",
       "      <td>Blendings</td>\n",
       "      <td>Light Ends</td>\n",
       "      <td>2016-11-23</td>\n",
       "      <td>2016-12-16</td>\n",
       "      <td>Russian Federation</td>\n",
       "      <td>Greece</td>\n",
       "    </tr>\n",
       "    <tr>\n",
       "      <th>4</th>\n",
       "      <td>Super Lotus</td>\n",
       "      <td>532476</td>\n",
       "      <td>Diesel</td>\n",
       "      <td>Gasoil/Diesel</td>\n",
       "      <td>Middle Distillates</td>\n",
       "      <td>2016-03-05</td>\n",
       "      <td>2016-03-25</td>\n",
       "      <td>Norway</td>\n",
       "      <td>United States</td>\n",
       "    </tr>\n",
       "  </tbody>\n",
       "</table>\n",
       "</div>"
      ],
      "text/plain": [
       "      vessel_names   volume           product             group  \\\n",
       "0  Oriental Sakura   487762                FO         Fuel Oils   \n",
       "1      Scf Yenisei   251535               RFO         Fuel Oils   \n",
       "2       Iron Point   108807          Gasoline  Gasoline/Naphtha   \n",
       "3           Evinos  1253729  Clean Condensate         Blendings   \n",
       "4      Super Lotus   532476            Diesel     Gasoil/Diesel   \n",
       "\n",
       "               family  start_date    end_date              origin  \\\n",
       "0                 DPP  2013-09-25  2013-09-29  Russian Federation   \n",
       "1                 DPP  2013-10-26  2013-10-30              Sweden   \n",
       "2          Light Ends  2015-05-21  2015-06-09             Belgium   \n",
       "3          Light Ends  2016-11-23  2016-12-16  Russian Federation   \n",
       "4  Middle Distillates  2016-03-05  2016-03-25              Norway   \n",
       "\n",
       "      destination  \n",
       "0  United Kingdom  \n",
       "1          Sweden  \n",
       "2            Togo  \n",
       "3          Greece  \n",
       "4   United States  "
      ]
     },
     "execution_count": 3,
     "metadata": {},
     "output_type": "execute_result"
    }
   ],
   "source": [
    "df.head(5)"
   ]
  },
  {
   "cell_type": "code",
   "execution_count": 4,
   "id": "69e38154",
   "metadata": {},
   "outputs": [],
   "source": [
    "df.to_csv('data/sample_mixed_comma.csv', index=False)"
   ]
  },
  {
   "cell_type": "code",
   "execution_count": 14,
   "id": "1c12362c",
   "metadata": {},
   "outputs": [
    {
     "data": {
      "text/plain": [
       "4457"
      ]
     },
     "execution_count": 14,
     "metadata": {},
     "output_type": "execute_result"
    }
   ],
   "source": [
    "len(df['vessel_names'].unique())"
   ]
  },
  {
   "cell_type": "code",
   "execution_count": null,
   "id": "702d58d4",
   "metadata": {},
   "outputs": [],
   "source": []
  }
 ],
 "metadata": {
  "kernelspec": {
   "display_name": "venv",
   "language": "python",
   "name": "venv"
  },
  "language_info": {
   "codemirror_mode": {
    "name": "ipython",
    "version": 3
   },
   "file_extension": ".py",
   "mimetype": "text/x-python",
   "name": "python",
   "nbconvert_exporter": "python",
   "pygments_lexer": "ipython3",
   "version": "3.9.13"
  }
 },
 "nbformat": 4,
 "nbformat_minor": 5
}
